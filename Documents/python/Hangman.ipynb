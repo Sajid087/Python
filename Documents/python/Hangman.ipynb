{
 "cells": [
  {
   "cell_type": "code",
   "execution_count": 5,
   "metadata": {},
   "outputs": [
    {
     "name": "stdout",
     "output_type": "stream",
     "text": [
      "Hello, sa Time to play hangman!\n",
      "Start guessing...\n",
      "_You guessed wrong\n",
      "_You guessed wrong\n",
      "_You guessed wrong\n",
      "_You guessed wrong\n",
      "_You guessed wrong\n",
      "_You guessed wrong\n",
      "\n",
      "\n",
      "_You guessed wrong\n",
      "_You guessed wrong\n",
      "_You guessed wrong\n",
      "_You guessed wrong\n",
      "_You guessed wrong\n",
      "_You guessed wrong\n",
      "\n",
      "\n",
      "s_You guessed wrong\n",
      "_You guessed wrong\n",
      "_You guessed wrong\n",
      "_You guessed wrong\n",
      "_You guessed wrong\n",
      "\n",
      "\n"
     ]
    }
   ],
   "source": [
    "import time\n",
    "\n",
    "name = input(\"What is your name? \")\n",
    "print (\"Hello, \" + name, \"Time to play hangman!\")\n",
    "\n",
    "time.sleep(1)\n",
    "\n",
    "print (\"Start guessing...\")\n",
    "time.sleep(0.5)\n",
    "\n",
    "#here we set the secret. You can select any word to play with. \n",
    "word = (\"secret\")\n",
    "\n",
    "#creates an variable with an empty value\n",
    "guesses = ''\n",
    "\n",
    "#determine the number of turns\n",
    "turns = 10\n",
    "\n",
    "while turns > 0:         \n",
    "\n",
    "    failed = 0                \n",
    "    for char in word:      \n",
    "        if char in guesses:    \n",
    "            print (char,end=\"\")  \n",
    "            \n",
    "        else:\n",
    "            print (\"_\",end=\"\")   \n",
    "            failed += 1 \n",
    "    print(\"\\n\")\n",
    "        \n",
    "\n",
    "    # print You Won\n",
    "    if failed == 0:        \n",
    "        print (\"\\nYou won\")\n",
    "        break            \n",
    "\n",
    "\n",
    "    guess = input(\"guess a character:\") \n",
    "\n",
    "    guesses += guess                    \n",
    "\n",
    "    if guess not in word:  \n",
    "        turns -= 1        \n",
    "        print (\"Wrong\")  \n",
    " \n",
    "    # how many turns are left\n",
    "        print (\"You have\", + turns, 'more guesses' )\n",
    "        if turns == 0:           \n",
    "            print (\"You Lose\"  )"
   ]
  }
 ],
 "metadata": {
  "kernelspec": {
   "display_name": "Python 3",
   "language": "python",
   "name": "python3"
  },
  "language_info": {
   "codemirror_mode": {
    "name": "ipython",
    "version": 3
   },
   "file_extension": ".py",
   "mimetype": "text/x-python",
   "name": "python",
   "nbconvert_exporter": "python",
   "pygments_lexer": "ipython3",
   "version": "3.10.11"
  },
  "orig_nbformat": 4
 },
 "nbformat": 4,
 "nbformat_minor": 2
}
