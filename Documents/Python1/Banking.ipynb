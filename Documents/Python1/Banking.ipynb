{
 "cells": [
  {
   "cell_type": "code",
   "execution_count": 3,
   "metadata": {},
   "outputs": [
    {
     "name": "stdout",
     "output_type": "stream",
     "text": [
      "Welcome to PNB\n",
      "Welcome Sajid\n",
      "\n",
      "\n",
      "For Deposit press 'D'\n",
      "For Withdraw press'W'\n",
      "To Exit press 'E'\n",
      "after deposit your balance is:  1000.0\n",
      "\n",
      "\n",
      "\n",
      "\n",
      "For Deposit press 'D'\n",
      "For Withdraw press'W'\n",
      "To Exit press 'E'\n",
      "after withdrawal the balance is:  900.0\n",
      "\n",
      "\n",
      "\n",
      "\n",
      "For Deposit press 'D'\n",
      "For Withdraw press'W'\n",
      "To Exit press 'E'\n",
      "Thanks for Banking!\n"
     ]
    },
    {
     "ename": "SystemExit",
     "evalue": "",
     "output_type": "error",
     "traceback": [
      "An exception has occurred, use %tb to see the full traceback.\n",
      "\u001b[1;31mSystemExit\u001b[0m\n"
     ]
    }
   ],
   "source": [
    "import sys\n",
    "\n",
    "class Customer:\n",
    "    bankname= \"PNB\"\n",
    "    def __init__(self,name,balance=0) -> None:\n",
    "        self.name= name\n",
    "        self.balance= balance\n",
    "    def deposit(self,amt):\n",
    "        self.balance=self.balance+amt\n",
    "        print(\"after deposit your balance is: \", self.balance)\n",
    "        print('\\n')\n",
    "    def withdraw(self,amt):\n",
    "        if amt>self.balance:\n",
    "            print(\"Insufficient amount in your bank\")\n",
    "            sys.exit()\n",
    "        self.balance=self.balance-amt\n",
    "        print(\"after withdrawal the balance is: \", self.balance)\n",
    "        print('\\n')\n",
    "\n",
    "print(\"Welcome to\", Customer.bankname)\n",
    "name= input ('Enter your Name:') \n",
    "print('Welcome', name)\n",
    "c = Customer(name)\n",
    "\n",
    "while True:\n",
    "    \n",
    "    print('\\n')\n",
    "    print(\"For Deposit press 'D'\\nFor Withdraw press'W'\\nTo Exit press 'E'\") \n",
    "    option = input ('choose your option:')\n",
    "    if option == 'd' or option == 'D':\n",
    "        amt = float(input(\"Enter the amount to deposit:\"))\n",
    "        c.deposit(amt)\n",
    "    elif option == \"w\" or option=='W':\n",
    "        amt = float (input(\"Enter Amount to withdraw?\"))\n",
    "        c.withdraw(amt)\n",
    "    elif option == 'e' or  option =='E':\n",
    "        print (\"Thanks for Banking!\") \n",
    "        sys.exit()\n",
    "    else:\n",
    "        print('choose valid option')\n"
   ]
  }
 ],
 "metadata": {
  "kernelspec": {
   "display_name": "Python 3",
   "language": "python",
   "name": "python3"
  },
  "language_info": {
   "codemirror_mode": {
    "name": "ipython",
    "version": 3
   },
   "file_extension": ".py",
   "mimetype": "text/x-python",
   "name": "python",
   "nbconvert_exporter": "python",
   "pygments_lexer": "ipython3",
   "version": "3.10.11"
  },
  "orig_nbformat": 4,
  "vscode": {
   "interpreter": {
    "hash": "17b8c55370a46d2c8e56940de6799ff2e47147a8a89b32440645b595da99d039"
   }
  }
 },
 "nbformat": 4,
 "nbformat_minor": 2
}
