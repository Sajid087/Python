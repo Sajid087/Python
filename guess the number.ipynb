{
 "cells": [
  {
   "cell_type": "code",
   "execution_count": null,
   "id": "94920946",
   "metadata": {},
   "outputs": [
    {
     "name": "stdout",
     "output_type": "stream",
     "text": [
      "Hi, and Welcome\n",
      "Here guess a number between 1 to 9 5\n",
      "You have guess the wrong answer\n"
     ]
    }
   ],
   "source": [
    "import random\n",
    "\n",
    "print(\"Hi, and Welcome\")\n",
    "i = 1\n",
    "x = 0 \n",
    "y = 0\n",
    "while i < 6:\n",
    "    b = random.randint(1,9)\n",
    "    a = int (input(\"Here guess a number between 1 to 9\"))\n",
    "    if a == b:\n",
    "        print(\"You have guess the right answer\")\n",
    "        x += 1\n",
    "    else:\n",
    "        print(\"You have guess the wrong answer\")\n",
    "        y += 1\n",
    "    i += 1\n",
    "    \n",
    "#print(\"Your Guess =\",a)\n",
    "#print(\"Computer Guess =\",b)\n",
    "\n",
    "if x > y:\n",
    "    print(\"You have won by\", x)\n",
    "else:\n",
    "    print(\"Computer have won by\", y)\n"
   ]
  },
  {
   "cell_type": "code",
   "execution_count": null,
   "id": "33902385",
   "metadata": {},
   "outputs": [],
   "source": []
  }
 ],
 "metadata": {
  "kernelspec": {
   "display_name": "Python 3 (ipykernel)",
   "language": "python",
   "name": "python3"
  },
  "language_info": {
   "codemirror_mode": {
    "name": "ipython",
    "version": 3
   },
   "file_extension": ".py",
   "mimetype": "text/x-python",
   "name": "python",
   "nbconvert_exporter": "python",
   "pygments_lexer": "ipython3",
   "version": "3.10.11"
  },
  "vscode": {
   "interpreter": {
    "hash": "17b8c55370a46d2c8e56940de6799ff2e47147a8a89b32440645b595da99d039"
   }
  }
 },
 "nbformat": 4,
 "nbformat_minor": 5
}
